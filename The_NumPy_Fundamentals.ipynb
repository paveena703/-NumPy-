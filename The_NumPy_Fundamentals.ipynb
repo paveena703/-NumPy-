{
  "nbformat": 4,
  "nbformat_minor": 0,
  "metadata": {
    "colab": {
      "provenance": [],
      "authorship_tag": "ABX9TyPm4yUkAeFtVFHfc8EXDMk/",
      "include_colab_link": true
    },
    "kernelspec": {
      "name": "python3",
      "display_name": "Python 3"
    },
    "language_info": {
      "name": "python"
    }
  },
  "cells": [
    {
      "cell_type": "markdown",
      "metadata": {
        "id": "view-in-github",
        "colab_type": "text"
      },
      "source": [
        "<a href=\"https://colab.research.google.com/github/paveena703/-NumPy-/blob/main/The_NumPy_Fundamentals.ipynb\" target=\"_parent\"><img src=\"https://colab.research.google.com/assets/colab-badge.svg\" alt=\"Open In Colab\"/></a>"
      ]
    },
    {
      "cell_type": "code",
      "execution_count": null,
      "metadata": {
        "id": "KJTJUMtLnSOL"
      },
      "outputs": [],
      "source": [
        "import numpy as np\n",
        "a = np.random.randint(10, size=6)\n",
        "b = np.random.randint(10, size=(3, 4))\n",
        "c = np.random.randint(10, size=(3, 4, 5))"
      ]
    },
    {
      "cell_type": "code",
      "source": [
        "print('One Diamensional Array\\n',a)\n",
        "print ('Two Diamensional Array\\n',b)\n",
        "print('Three Diamensional Array\\n',c)\n",
        "print('One Diamensional Attributes - Array name -a')\n",
        "print(\"a ndim: \", a.ndim)\n",
        "print(\"a shape:\", a.shape)\n",
        "print(\"a size: \", a.size)\n",
        "print(\"dtype:\", a.dtype)"
      ],
      "metadata": {
        "colab": {
          "base_uri": "https://localhost:8080/"
        },
        "id": "-oqPqiiJnmtT",
        "outputId": "4d43e6f6-174f-4a55-959f-1d404234d13d"
      },
      "execution_count": null,
      "outputs": [
        {
          "output_type": "stream",
          "name": "stdout",
          "text": [
            "One Diamensional Array\n",
            " [3 8 9 1 7 5]\n",
            "Two Diamensional Array\n",
            " [[7 9 0 8]\n",
            " [7 0 6 2]\n",
            " [5 5 5 2]]\n",
            "Three Diamensional Array\n",
            " [[[4 7 6 9 9]\n",
            "  [1 7 4 1 7]\n",
            "  [0 7 2 1 1]\n",
            "  [5 6 6 0 0]]\n",
            "\n",
            " [[1 1 0 8 9]\n",
            "  [5 6 8 1 9]\n",
            "  [0 6 1 0 6]\n",
            "  [9 8 5 4 0]]\n",
            "\n",
            " [[2 6 0 0 3]\n",
            "  [1 4 4 1 7]\n",
            "  [5 7 5 0 7]\n",
            "  [5 7 8 9 4]]]\n",
            "One Diamensional Attributes - Array name -a\n",
            "a ndim:  1\n",
            "a shape: (6,)\n",
            "a size:  6\n",
            "dtype: int64\n"
          ]
        }
      ]
    },
    {
      "cell_type": "code",
      "source": [
        "print(\"itemsize:\", a.itemsize, \"bytes\")\n",
        "print(\"nbytes:\", a.nbytes, \"bytes\")\n",
        "print('Two Diamensional Attributes - Array name -b')\n",
        "print(\"b ndim: \", b.ndim)\n",
        "print(\"b shape:\", b.shape)\n",
        "print(\"b size: \", b.size)\n",
        "print(\"dtype:\", b.dtype)\n",
        "print(\"itemsize:\", b.itemsize, \"bytes\")"
      ],
      "metadata": {
        "colab": {
          "base_uri": "https://localhost:8080/"
        },
        "id": "mX3Nh6kHnu-7",
        "outputId": "2c13f0c4-d7cc-4253-dbab-a54dda116248"
      },
      "execution_count": null,
      "outputs": [
        {
          "output_type": "stream",
          "name": "stdout",
          "text": [
            "itemsize: 8 bytes\n",
            "nbytes: 48 bytes\n",
            "Two Diamensional Attributes - Array name -b\n",
            "b ndim:  2\n",
            "b shape: (3, 4)\n",
            "b size:  12\n",
            "dtype: int64\n",
            "itemsize: 8 bytes\n"
          ]
        }
      ]
    },
    {
      "cell_type": "code",
      "source": [
        "print(\"nbytes:\", b.nbytes, \"bytes\")\n",
        "print('Three Diamensional Attributes - Array name -c')\n",
        "print(\"b ndim: \", c.ndim)\n",
        "print(\"b shape:\", c.shape)\n",
        "print(\"b size: \", c.size)\n",
        "print(\"dtype:\", c.dtype)"
      ],
      "metadata": {
        "colab": {
          "base_uri": "https://localhost:8080/"
        },
        "id": "zWfwtUHon0Xs",
        "outputId": "f13beb6e-4037-4df1-ff95-eaffc42340ed"
      },
      "execution_count": null,
      "outputs": [
        {
          "output_type": "stream",
          "name": "stdout",
          "text": [
            "nbytes: 96 bytes\n",
            "Three Diamensional Attributes - Array name -c\n",
            "b ndim:  3\n",
            "b shape: (3, 4, 5)\n",
            "b size:  60\n",
            "dtype: int64\n"
          ]
        }
      ]
    },
    {
      "cell_type": "code",
      "source": [
        "print(\"itemsize:\", c.itemsize, \"bytes\")\n",
        "print(\"nbytes:\", c.nbytes, \"bytes\")\n",
        "print('One Diamensional Array name -a Printing Values Using Index')\n",
        "print(a[::-1])\n",
        "print('One Diamensional Array name -a Printing Values Using Index 2 to 5')\n",
        "print(a[2:5])\n",
        "print('2D Matrix\\n',b)"
      ],
      "metadata": {
        "colab": {
          "base_uri": "https://localhost:8080/"
        },
        "id": "PKA5tytMoBlL",
        "outputId": "9c1385ad-c95d-433d-b257-ca7fcfbc3666"
      },
      "execution_count": null,
      "outputs": [
        {
          "output_type": "stream",
          "name": "stdout",
          "text": [
            "itemsize: 8 bytes\n",
            "nbytes: 480 bytes\n",
            "One Diamensional Array name -a Printing Values Using Index\n",
            "[5 7 1 9 8 3]\n",
            "One Diamensional Array name -a Printing Values Using Index 2 to 5\n",
            "[9 1 7]\n",
            "2D Matrix\n",
            " [[7 9 0 8]\n",
            " [7 0 6 2]\n",
            " [5 5 5 2]]\n"
          ]
        }
      ]
    },
    {
      "cell_type": "code",
      "source": [
        "print('Print 1st Row in Array\\n',b[:1,:])\n",
        "print('Print 1st Row in Array\\n',b[1:2,:])\n",
        "print('Print 2nd Row in Array\\n',b[2:3,:])\n",
        "print('Print 1st Column in Array\\n',b[:,:1])\n",
        "print('Print 2nd Coloumn in Array\\n',b[:,1:2])\n",
        "print('Print 4th Coloumn in Array\\n',b[:,3:4])\n",
        "print('Print Two Rows and Three Coloumn in Array\\n',b[:2,:3])\n",
        "b_sub=b[:2,:2]"
      ],
      "metadata": {
        "colab": {
          "base_uri": "https://localhost:8080/"
        },
        "id": "KX_Qh7JBoJRE",
        "outputId": "4e389a62-97c9-4d91-f68c-3e9632b7a290"
      },
      "execution_count": null,
      "outputs": [
        {
          "output_type": "stream",
          "name": "stdout",
          "text": [
            "Print 1st Row in Array\n",
            " [[7 9 0 8]]\n",
            "Print 1st Row in Array\n",
            " [[7 0 6 2]]\n",
            "Print 2nd Row in Array\n",
            " [[5 5 5 2]]\n",
            "Print 1st Column in Array\n",
            " [[7]\n",
            " [7]\n",
            " [5]]\n",
            "Print 2nd Coloumn in Array\n",
            " [[9]\n",
            " [0]\n",
            " [5]]\n",
            "Print 4th Coloumn in Array\n",
            " [[8]\n",
            " [2]\n",
            " [2]]\n",
            "Print Two Rows and Three Coloumn in Array\n",
            " [[7 9 0]\n",
            " [7 0 6]]\n"
          ]
        }
      ]
    },
    {
      "cell_type": "code",
      "source": [
        "print(b_sub)\n",
        "b_sub[0,0]=50\n",
        "b_sub[0,1]=100\n",
        "b_sub[1,0]=150\n",
        "b_sub[1,1]=200\n",
        "print(b_sub)\n",
        "print('Now 2D Array \\n',b)\n",
        "b_sub_copy = b[:2, :2].copy()\n",
        "print('2D Array Using Copy Method\\n]',b_sub_copy)\n",
        "b_sub_copy[1,1]=300"
      ],
      "metadata": {
        "colab": {
          "base_uri": "https://localhost:8080/"
        },
        "id": "eVIjD341oSum",
        "outputId": "15f72783-0359-4ab5-d25b-07b4701642f6"
      },
      "execution_count": null,
      "outputs": [
        {
          "output_type": "stream",
          "name": "stdout",
          "text": [
            "[[7 9]\n",
            " [7 0]]\n",
            "[[ 50 100]\n",
            " [150 200]]\n",
            "Now 2D Array \n",
            " [[ 50 100   0   8]\n",
            " [150 200   6   2]\n",
            " [  5   5   5   2]]\n",
            "2D Array Using Copy Method\n",
            "] [[ 50 100]\n",
            " [150 200]]\n"
          ]
        }
      ]
    },
    {
      "cell_type": "code",
      "source": [
        "print(b_sub_copy)\n",
        "print('Now 2D Array \\n',b)\n",
        "\n",
        "print('The 1D Array \\n',a)\n",
        "a=a.reshape((2, 3))\n",
        "print('Reshape Method 1D to 2D \\n',a)\n",
        "print(a)\n",
        "a=a.reshape((6, 1))\n",
        "print('Reshape Method\\n',a)\n",
        "a=a[:,np.newaxis]\n",
        "print('Newaxis Method\\n',a)"
      ],
      "metadata": {
        "colab": {
          "base_uri": "https://localhost:8080/"
        },
        "id": "73JUgCTOoWme",
        "outputId": "b2407982-53f4-4c20-ade9-12e695e61df0"
      },
      "execution_count": null,
      "outputs": [
        {
          "output_type": "stream",
          "name": "stdout",
          "text": [
            "[[ 50 100]\n",
            " [150 300]]\n",
            "Now 2D Array \n",
            " [[ 50 100   0   8]\n",
            " [150 200   6   2]\n",
            " [  5   5   5   2]]\n",
            "The 1D Array \n",
            " [3 8 9 1 7 5]\n",
            "Reshape Method 1D to 2D \n",
            " [[3 8 9]\n",
            " [1 7 5]]\n",
            "[[3 8 9]\n",
            " [1 7 5]]\n",
            "Reshape Method\n",
            " [[3]\n",
            " [8]\n",
            " [9]\n",
            " [1]\n",
            " [7]\n",
            " [5]]\n",
            "Newaxis Method\n",
            " [[[3]]\n",
            "\n",
            " [[8]]\n",
            "\n",
            " [[9]]\n",
            "\n",
            " [[1]]\n",
            "\n",
            " [[7]]\n",
            "\n",
            " [[5]]]\n"
          ]
        }
      ]
    },
    {
      "cell_type": "code",
      "source": [
        "a=[1,2,3,4]\n",
        "a1=[10,11,12,13]\n",
        "print('Array 1',a)\n",
        "print('Array 2',a1)\n",
        "c=np.concatenate([a, a1])\n",
        "print('Array Concatenation 1D\\n', c)\n",
        "print('Array 2D\\n',b)\n",
        "d=np.concatenate([b,b])\n",
        "print('Array Concatenation 2D\\n',d)\n",
        "e=np.vstack([a, d])\n",
        "print('Print Mixing Diamensional \\n',e)\n",
        "a=[1,2,3,4,5,6,7,8,9,10]\n",
        "print('The New 1D array\\n',a)\n",
        "b3=np.split(a,[0,5])\n",
        "print('The Array Split Method\\n',b3)"
      ],
      "metadata": {
        "colab": {
          "base_uri": "https://localhost:8080/"
        },
        "id": "noKYgv3JoYTI",
        "outputId": "3bff5be9-d04e-4e8a-82d2-b095f1bc9712"
      },
      "execution_count": null,
      "outputs": [
        {
          "output_type": "stream",
          "name": "stdout",
          "text": [
            "Array 1 [1, 2, 3, 4]\n",
            "Array 2 [10, 11, 12, 13]\n",
            "Array Concatenation 1D\n",
            " [ 1  2  3  4 10 11 12 13]\n",
            "Array 2D\n",
            " [[ 50 100   0   8]\n",
            " [150 200   6   2]\n",
            " [  5   5   5   2]]\n",
            "Array Concatenation 2D\n",
            " [[ 50 100   0   8]\n",
            " [150 200   6   2]\n",
            " [  5   5   5   2]\n",
            " [ 50 100   0   8]\n",
            " [150 200   6   2]\n",
            " [  5   5   5   2]]\n",
            "Print Mixing Diamensional \n",
            " [[  1   2   3   4]\n",
            " [ 50 100   0   8]\n",
            " [150 200   6   2]\n",
            " [  5   5   5   2]\n",
            " [ 50 100   0   8]\n",
            " [150 200   6   2]\n",
            " [  5   5   5   2]]\n",
            "The New 1D array\n",
            " [1, 2, 3, 4, 5, 6, 7, 8, 9, 10]\n",
            "The Array Split Method\n",
            " [array([], dtype=int64), array([1, 2, 3, 4, 5]), array([ 6,  7,  8,  9, 10])]\n"
          ]
        }
      ]
    }
  ]
}